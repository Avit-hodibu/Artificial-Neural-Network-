{
  "nbformat": 4,
  "nbformat_minor": 0,
  "metadata": {
    "colab": {
      "provenance": [],
      "authorship_tag": "ABX9TyML+49MyF5m6apU/qwhLtSg",
      "include_colab_link": true
    },
    "kernelspec": {
      "name": "python3",
      "display_name": "Python 3"
    },
    "language_info": {
      "name": "python"
    }
  },
  "cells": [
    {
      "cell_type": "markdown",
      "metadata": {
        "id": "view-in-github",
        "colab_type": "text"
      },
      "source": [
        "<a href=\"https://colab.research.google.com/github/Avit-hodibu/Artificial-Neural-Network-/blob/main/ANN.ipynb\" target=\"_parent\"><img src=\"https://colab.research.google.com/assets/colab-badge.svg\" alt=\"Open In Colab\"/></a>"
      ]
    },
    {
      "cell_type": "markdown",
      "source": [
        "# Deep Learning"
      ],
      "metadata": {
        "id": "HA_aXqN2oMVD"
      }
    },
    {
      "cell_type": "markdown",
      "source": [
        "It is subfield of AI and ML that is inspired by the structure of a human brain.\n",
        "\n",
        "DL algo attempt to draw similar conclusions as humans would by continually analyzing data with a given logical structure called Neural Network.\n",
        "\n",
        "Perceptron is connected with each other with arrow which we call weight.\n",
        "\n",
        "In one stright line vertically perceptron is placed is called layer. First layer is called input layer and last layer is output layer and in the middle all layer is hidden layer.  "
      ],
      "metadata": {
        "id": "I2IGf0PXoV6y"
      }
    },
    {
      "cell_type": "markdown",
      "source": [
        "DL is part of a broader family of ML methods based on ANN with representation learning.\n",
        "\n",
        "DL algo uses multiple layers to progressively extract higher-level features from the raw input. For example, in image processing, lower layers may identify edges, while higher layers may identify the concepts relevant to a human such as digits or letters or faces."
      ],
      "metadata": {
        "id": "CWvIOByXs5yE"
      }
    },
    {
      "cell_type": "markdown",
      "source": [
        "CNN = image data\n",
        "\n",
        "RNN = text/speech data\n",
        "\n",
        "GAN = to generate things (text/image)"
      ],
      "metadata": {
        "id": "V-s4NpFcrfQ5"
      }
    },
    {
      "cell_type": "markdown",
      "source": [
        "Why DL ?\n",
        "- applicablity\n",
        "- performance"
      ],
      "metadata": {
        "id": "hM0gKmJJsF3m"
      }
    },
    {
      "cell_type": "markdown",
      "source": [
        "DL vs ML\n",
        "- data dependency: DL need more data\n",
        "- hardware dependency: DL need GPU\n",
        "- training time: training time is high. prediction time fast in DL\n",
        "- feature selection: DL automaticly extract features behind the scene\n",
        "- interpretablity: Since Dl work behind the scene like black box, you will not know why something is happen or predicted the actual reason."
      ],
      "metadata": {
        "id": "ha1wQU1xwoel"
      }
    },
    {
      "cell_type": "markdown",
      "source": [
        "Architectures of DL:\n",
        "\n",
        "Image classification = ResNET\n",
        "\n",
        "Text classification = BERT\n",
        "\n",
        "Image segment = Unet\n",
        "\n",
        "image translation = Pix2Pix\n",
        "\n",
        "object detection = YOLO\n",
        "\n",
        "speech generation = WaveNET"
      ],
      "metadata": {
        "id": "Tu01OYARBcXQ"
      }
    },
    {
      "cell_type": "markdown",
      "source": [
        "# Neural Networks"
      ],
      "metadata": {
        "id": "C4QsiPeqGuH3"
      }
    },
    {
      "cell_type": "markdown",
      "source": [
        "Types of NN:\n",
        "1.  Multi-layer perception: multiple perception are arrange in layers. can be use in any problem, especially in supervised problem in nonlinear\n",
        "2. CNN(convolutional NN): It NN where aleast one layer is convolution layer.\n",
        "3. RNN(Recurrent NN): other previous are feed forward NN but, in RNN, in layer of hidden it feed backward aleast once and goes to hidden layer. It has variation name LSTM. These are use mainly in NLP\n",
        "4. Auto encoders: you have the input data which you want to compress without lossing the quality. In this input layer and output layer have similar nodes but hidden  layer has less nodes.\n",
        "5. Generative Adverserial Networks(GAN):\n",
        "there is generator and discriminator. Generator generate the data and send to discriminator to check. Once the generator create a data that discriminator cannot identify whether it is real or fake, it is sucessfula and called auto generated data."
      ],
      "metadata": {
        "id": "4t3ro8jfGzCK"
      }
    },
    {
      "cell_type": "markdown",
      "source": [
        "**History of DL**\n",
        "\n",
        " perception works on linear function. XOR canot able to solve\n",
        "\n",
        " paper= learning representations using backpropogating errors. if use bunch of perception it will converse the non-linear function also. If you add many hidden layer you can converse to any mathamatical function.\n",
        "\n",
        "\n"
      ],
      "metadata": {
        "id": "FTUwrbKkhiQg"
      }
    },
    {
      "cell_type": "markdown",
      "source": [
        "**Application**\n",
        "\n",
        "self driving cars(CNN)\n",
        "\n",
        "game playing agents\n",
        "\n",
        "Virtual assistant(RNN)\n",
        "\n",
        "Image colorlization:\n",
        "\n",
        "Adding audio in mute video\n",
        "\n",
        "Image caption generation\n",
        "\n",
        "Text translation\n",
        "\n",
        "Pixel Restroation\n",
        "\n",
        "object detection\n",
        "\n",
        "Deep dreaming"
      ],
      "metadata": {
        "id": "9EHHJcAbkpkc"
      }
    },
    {
      "cell_type": "markdown",
      "source": [
        "# Perceptron"
      ],
      "metadata": {
        "id": "jlbb3rOvm3Fc"
      }
    },
    {
      "cell_type": "markdown",
      "source": [
        "It is algorithm. It is used for supervised ML. It has design in a way which become the building block of DL\n",
        "\n",
        "https://www.sharpsightlabs.com/wp-content/uploads/2023/07/perceptrons-explained_FEATURED-IMAGE.png\n",
        "\n",
        "It is a mathamatical function.\n",
        "\n",
        "b = bias , w = weight, x= input\n",
        "\n",
        "connector has tha weight and bias and is sum at sumation then it is called z and the z travel to activation function(f). The work of f is to make sure that z comes under certain range.\n",
        "\n",
        "z = w1x1 + w2x2 + b\n",
        "\n",
        "**Training**:\n",
        "we train with data in perceptron. we train the value of bias and weight by using X and y. W and b adjust according to the value of X to get y\n",
        "\n",
        "**Prediction**:\n",
        "we put value of x input. it will calculate and give z value. the z value is give to activation function and give the output y.\n",
        "\n"
      ],
      "metadata": {
        "id": "2KkftpzxnBfO"
      }
    },
    {
      "cell_type": "markdown",
      "source": [
        "more weight means it impact more."
      ],
      "metadata": {
        "id": "ohEtA0iyLRE3"
      }
    },
    {
      "cell_type": "markdown",
      "source": [
        "**Geometric Intuition**:\n",
        "sumation give z= w1x1+w2x2+b\n",
        "\n",
        "x1 and x2 is input value. w1 and w2 and weight of input. b is bias.\n",
        "\n",
        "lets replace x1 with x, x2 with y, w1 with A, w2 with B and b with C. Then,\n",
        "\n",
        "z= Ax+By+C --- this is equation of line.\n",
        "\n",
        "This means perceptron is line\n",
        "\n",
        "Y = f(z) = 1 if z>=0 and 0 if z<0.\n",
        "\n",
        "Ax+By+C>=0\n",
        "\n",
        "Ax+By+C<0\n",
        "\n",
        "these are region.\n",
        "\n",
        "This means perceptron is line that create two region.  This why perceptron is a binary classifier.\n",
        "\n",
        "When we have 3 input then it work as plane. It still create 2 region. more than 2 is called hyperplane.\n",
        "\n",
        "So, if we have non-linear dataset then perceptron will fail."
      ],
      "metadata": {
        "id": "53w8ZidNpd1x"
      }
    },
    {
      "cell_type": "code",
      "execution_count": null,
      "metadata": {
        "id": "DGa9fw14mgoF"
      },
      "outputs": [],
      "source": [
        "# code\n",
        "import numpy as np\n",
        "import pandas as pd\n",
        "import seaborn as sns\n",
        "import matplotlib.pyplot as plt"
      ]
    },
    {
      "cell_type": "code",
      "source": [
        "df = pd.read_csv(\"placement.csv\")"
      ],
      "metadata": {
        "id": "xClITDuAvHOT"
      },
      "execution_count": null,
      "outputs": []
    },
    {
      "cell_type": "code",
      "source": [
        "print(df.shape)\n",
        "df.head()"
      ],
      "metadata": {
        "colab": {
          "base_uri": "https://localhost:8080/",
          "height": 224
        },
        "id": "HSjNJOzVvMYC",
        "outputId": "99c2eea3-efcd-4500-f68f-add1d3d58684"
      },
      "execution_count": null,
      "outputs": [
        {
          "output_type": "stream",
          "name": "stdout",
          "text": [
            "(100, 3)\n"
          ]
        },
        {
          "output_type": "execute_result",
          "data": {
            "text/plain": [
              "   cgpa  resume_score  placed\n",
              "0  8.14          6.52       1\n",
              "1  6.17          5.17       0\n",
              "2  8.27          8.86       1\n",
              "3  6.88          7.27       1\n",
              "4  7.52          7.30       1"
            ],
            "text/html": [
              "\n",
              "  <div id=\"df-7b6db009-8665-4619-bd4c-bddfea6080d4\" class=\"colab-df-container\">\n",
              "    <div>\n",
              "<style scoped>\n",
              "    .dataframe tbody tr th:only-of-type {\n",
              "        vertical-align: middle;\n",
              "    }\n",
              "\n",
              "    .dataframe tbody tr th {\n",
              "        vertical-align: top;\n",
              "    }\n",
              "\n",
              "    .dataframe thead th {\n",
              "        text-align: right;\n",
              "    }\n",
              "</style>\n",
              "<table border=\"1\" class=\"dataframe\">\n",
              "  <thead>\n",
              "    <tr style=\"text-align: right;\">\n",
              "      <th></th>\n",
              "      <th>cgpa</th>\n",
              "      <th>resume_score</th>\n",
              "      <th>placed</th>\n",
              "    </tr>\n",
              "  </thead>\n",
              "  <tbody>\n",
              "    <tr>\n",
              "      <th>0</th>\n",
              "      <td>8.14</td>\n",
              "      <td>6.52</td>\n",
              "      <td>1</td>\n",
              "    </tr>\n",
              "    <tr>\n",
              "      <th>1</th>\n",
              "      <td>6.17</td>\n",
              "      <td>5.17</td>\n",
              "      <td>0</td>\n",
              "    </tr>\n",
              "    <tr>\n",
              "      <th>2</th>\n",
              "      <td>8.27</td>\n",
              "      <td>8.86</td>\n",
              "      <td>1</td>\n",
              "    </tr>\n",
              "    <tr>\n",
              "      <th>3</th>\n",
              "      <td>6.88</td>\n",
              "      <td>7.27</td>\n",
              "      <td>1</td>\n",
              "    </tr>\n",
              "    <tr>\n",
              "      <th>4</th>\n",
              "      <td>7.52</td>\n",
              "      <td>7.30</td>\n",
              "      <td>1</td>\n",
              "    </tr>\n",
              "  </tbody>\n",
              "</table>\n",
              "</div>\n",
              "    <div class=\"colab-df-buttons\">\n",
              "\n",
              "  <div class=\"colab-df-container\">\n",
              "    <button class=\"colab-df-convert\" onclick=\"convertToInteractive('df-7b6db009-8665-4619-bd4c-bddfea6080d4')\"\n",
              "            title=\"Convert this dataframe to an interactive table.\"\n",
              "            style=\"display:none;\">\n",
              "\n",
              "  <svg xmlns=\"http://www.w3.org/2000/svg\" height=\"24px\" viewBox=\"0 -960 960 960\">\n",
              "    <path d=\"M120-120v-720h720v720H120Zm60-500h600v-160H180v160Zm220 220h160v-160H400v160Zm0 220h160v-160H400v160ZM180-400h160v-160H180v160Zm440 0h160v-160H620v160ZM180-180h160v-160H180v160Zm440 0h160v-160H620v160Z\"/>\n",
              "  </svg>\n",
              "    </button>\n",
              "\n",
              "  <style>\n",
              "    .colab-df-container {\n",
              "      display:flex;\n",
              "      gap: 12px;\n",
              "    }\n",
              "\n",
              "    .colab-df-convert {\n",
              "      background-color: #E8F0FE;\n",
              "      border: none;\n",
              "      border-radius: 50%;\n",
              "      cursor: pointer;\n",
              "      display: none;\n",
              "      fill: #1967D2;\n",
              "      height: 32px;\n",
              "      padding: 0 0 0 0;\n",
              "      width: 32px;\n",
              "    }\n",
              "\n",
              "    .colab-df-convert:hover {\n",
              "      background-color: #E2EBFA;\n",
              "      box-shadow: 0px 1px 2px rgba(60, 64, 67, 0.3), 0px 1px 3px 1px rgba(60, 64, 67, 0.15);\n",
              "      fill: #174EA6;\n",
              "    }\n",
              "\n",
              "    .colab-df-buttons div {\n",
              "      margin-bottom: 4px;\n",
              "    }\n",
              "\n",
              "    [theme=dark] .colab-df-convert {\n",
              "      background-color: #3B4455;\n",
              "      fill: #D2E3FC;\n",
              "    }\n",
              "\n",
              "    [theme=dark] .colab-df-convert:hover {\n",
              "      background-color: #434B5C;\n",
              "      box-shadow: 0px 1px 3px 1px rgba(0, 0, 0, 0.15);\n",
              "      filter: drop-shadow(0px 1px 2px rgba(0, 0, 0, 0.3));\n",
              "      fill: #FFFFFF;\n",
              "    }\n",
              "  </style>\n",
              "\n",
              "    <script>\n",
              "      const buttonEl =\n",
              "        document.querySelector('#df-7b6db009-8665-4619-bd4c-bddfea6080d4 button.colab-df-convert');\n",
              "      buttonEl.style.display =\n",
              "        google.colab.kernel.accessAllowed ? 'block' : 'none';\n",
              "\n",
              "      async function convertToInteractive(key) {\n",
              "        const element = document.querySelector('#df-7b6db009-8665-4619-bd4c-bddfea6080d4');\n",
              "        const dataTable =\n",
              "          await google.colab.kernel.invokeFunction('convertToInteractive',\n",
              "                                                    [key], {});\n",
              "        if (!dataTable) return;\n",
              "\n",
              "        const docLinkHtml = 'Like what you see? Visit the ' +\n",
              "          '<a target=\"_blank\" href=https://colab.research.google.com/notebooks/data_table.ipynb>data table notebook</a>'\n",
              "          + ' to learn more about interactive tables.';\n",
              "        element.innerHTML = '';\n",
              "        dataTable['output_type'] = 'display_data';\n",
              "        await google.colab.output.renderOutput(dataTable, element);\n",
              "        const docLink = document.createElement('div');\n",
              "        docLink.innerHTML = docLinkHtml;\n",
              "        element.appendChild(docLink);\n",
              "      }\n",
              "    </script>\n",
              "  </div>\n",
              "\n",
              "\n",
              "<div id=\"df-3a4100e3-4d06-4b03-b676-480fd92be827\">\n",
              "  <button class=\"colab-df-quickchart\" onclick=\"quickchart('df-3a4100e3-4d06-4b03-b676-480fd92be827')\"\n",
              "            title=\"Suggest charts\"\n",
              "            style=\"display:none;\">\n",
              "\n",
              "<svg xmlns=\"http://www.w3.org/2000/svg\" height=\"24px\"viewBox=\"0 0 24 24\"\n",
              "     width=\"24px\">\n",
              "    <g>\n",
              "        <path d=\"M19 3H5c-1.1 0-2 .9-2 2v14c0 1.1.9 2 2 2h14c1.1 0 2-.9 2-2V5c0-1.1-.9-2-2-2zM9 17H7v-7h2v7zm4 0h-2V7h2v10zm4 0h-2v-4h2v4z\"/>\n",
              "    </g>\n",
              "</svg>\n",
              "  </button>\n",
              "\n",
              "<style>\n",
              "  .colab-df-quickchart {\n",
              "      --bg-color: #E8F0FE;\n",
              "      --fill-color: #1967D2;\n",
              "      --hover-bg-color: #E2EBFA;\n",
              "      --hover-fill-color: #174EA6;\n",
              "      --disabled-fill-color: #AAA;\n",
              "      --disabled-bg-color: #DDD;\n",
              "  }\n",
              "\n",
              "  [theme=dark] .colab-df-quickchart {\n",
              "      --bg-color: #3B4455;\n",
              "      --fill-color: #D2E3FC;\n",
              "      --hover-bg-color: #434B5C;\n",
              "      --hover-fill-color: #FFFFFF;\n",
              "      --disabled-bg-color: #3B4455;\n",
              "      --disabled-fill-color: #666;\n",
              "  }\n",
              "\n",
              "  .colab-df-quickchart {\n",
              "    background-color: var(--bg-color);\n",
              "    border: none;\n",
              "    border-radius: 50%;\n",
              "    cursor: pointer;\n",
              "    display: none;\n",
              "    fill: var(--fill-color);\n",
              "    height: 32px;\n",
              "    padding: 0;\n",
              "    width: 32px;\n",
              "  }\n",
              "\n",
              "  .colab-df-quickchart:hover {\n",
              "    background-color: var(--hover-bg-color);\n",
              "    box-shadow: 0 1px 2px rgba(60, 64, 67, 0.3), 0 1px 3px 1px rgba(60, 64, 67, 0.15);\n",
              "    fill: var(--button-hover-fill-color);\n",
              "  }\n",
              "\n",
              "  .colab-df-quickchart-complete:disabled,\n",
              "  .colab-df-quickchart-complete:disabled:hover {\n",
              "    background-color: var(--disabled-bg-color);\n",
              "    fill: var(--disabled-fill-color);\n",
              "    box-shadow: none;\n",
              "  }\n",
              "\n",
              "  .colab-df-spinner {\n",
              "    border: 2px solid var(--fill-color);\n",
              "    border-color: transparent;\n",
              "    border-bottom-color: var(--fill-color);\n",
              "    animation:\n",
              "      spin 1s steps(1) infinite;\n",
              "  }\n",
              "\n",
              "  @keyframes spin {\n",
              "    0% {\n",
              "      border-color: transparent;\n",
              "      border-bottom-color: var(--fill-color);\n",
              "      border-left-color: var(--fill-color);\n",
              "    }\n",
              "    20% {\n",
              "      border-color: transparent;\n",
              "      border-left-color: var(--fill-color);\n",
              "      border-top-color: var(--fill-color);\n",
              "    }\n",
              "    30% {\n",
              "      border-color: transparent;\n",
              "      border-left-color: var(--fill-color);\n",
              "      border-top-color: var(--fill-color);\n",
              "      border-right-color: var(--fill-color);\n",
              "    }\n",
              "    40% {\n",
              "      border-color: transparent;\n",
              "      border-right-color: var(--fill-color);\n",
              "      border-top-color: var(--fill-color);\n",
              "    }\n",
              "    60% {\n",
              "      border-color: transparent;\n",
              "      border-right-color: var(--fill-color);\n",
              "    }\n",
              "    80% {\n",
              "      border-color: transparent;\n",
              "      border-right-color: var(--fill-color);\n",
              "      border-bottom-color: var(--fill-color);\n",
              "    }\n",
              "    90% {\n",
              "      border-color: transparent;\n",
              "      border-bottom-color: var(--fill-color);\n",
              "    }\n",
              "  }\n",
              "</style>\n",
              "\n",
              "  <script>\n",
              "    async function quickchart(key) {\n",
              "      const quickchartButtonEl =\n",
              "        document.querySelector('#' + key + ' button');\n",
              "      quickchartButtonEl.disabled = true;  // To prevent multiple clicks.\n",
              "      quickchartButtonEl.classList.add('colab-df-spinner');\n",
              "      try {\n",
              "        const charts = await google.colab.kernel.invokeFunction(\n",
              "            'suggestCharts', [key], {});\n",
              "      } catch (error) {\n",
              "        console.error('Error during call to suggestCharts:', error);\n",
              "      }\n",
              "      quickchartButtonEl.classList.remove('colab-df-spinner');\n",
              "      quickchartButtonEl.classList.add('colab-df-quickchart-complete');\n",
              "    }\n",
              "    (() => {\n",
              "      let quickchartButtonEl =\n",
              "        document.querySelector('#df-3a4100e3-4d06-4b03-b676-480fd92be827 button');\n",
              "      quickchartButtonEl.style.display =\n",
              "        google.colab.kernel.accessAllowed ? 'block' : 'none';\n",
              "    })();\n",
              "  </script>\n",
              "</div>\n",
              "\n",
              "    </div>\n",
              "  </div>\n"
            ],
            "application/vnd.google.colaboratory.intrinsic+json": {
              "type": "dataframe",
              "variable_name": "df",
              "summary": "{\n  \"name\": \"df\",\n  \"rows\": 100,\n  \"fields\": [\n    {\n      \"column\": \"cgpa\",\n      \"properties\": {\n        \"dtype\": \"number\",\n        \"std\": 1.1192002736442004,\n        \"min\": 5.27,\n        \"max\": 9.4,\n        \"num_unique_values\": 89,\n        \"samples\": [\n          5.47,\n          6.13,\n          7.36\n        ],\n        \"semantic_type\": \"\",\n        \"description\": \"\"\n      }\n    },\n    {\n      \"column\": \"resume_score\",\n      \"properties\": {\n        \"dtype\": \"number\",\n        \"std\": 0.9796076054247744,\n        \"min\": 4.95,\n        \"max\": 9.06,\n        \"num_unique_values\": 93,\n        \"samples\": [\n          7.95,\n          7.13,\n          7.37\n        ],\n        \"semantic_type\": \"\",\n        \"description\": \"\"\n      }\n    },\n    {\n      \"column\": \"placed\",\n      \"properties\": {\n        \"dtype\": \"number\",\n        \"std\": 0,\n        \"min\": 0,\n        \"max\": 1,\n        \"num_unique_values\": 2,\n        \"samples\": [\n          0,\n          1\n        ],\n        \"semantic_type\": \"\",\n        \"description\": \"\"\n      }\n    }\n  ]\n}"
            }
          },
          "metadata": {},
          "execution_count": 3
        }
      ]
    },
    {
      "cell_type": "code",
      "source": [
        "sns.scatterplot(x='cgpa', y='resume_score', hue='placed', data=df)"
      ],
      "metadata": {
        "colab": {
          "base_uri": "https://localhost:8080/",
          "height": 467
        },
        "id": "QaDXYS0ZvQPG",
        "outputId": "c23c40a6-8265-443b-9192-27ac067ab17c"
      },
      "execution_count": null,
      "outputs": [
        {
          "output_type": "execute_result",
          "data": {
            "text/plain": [
              "<Axes: xlabel='cgpa', ylabel='resume_score'>"
            ]
          },
          "metadata": {},
          "execution_count": 5
        },
        {
          "output_type": "display_data",
          "data": {
            "text/plain": [
              "<Figure size 640x480 with 1 Axes>"
            ],
            "image/png": "[encoded data removed]"
          },
          "metadata": {}
        }
      ]
    },
    {
      "cell_type": "code",
      "source": [
        "from sklearn.linear_model import Perceptron\n",
        "p = Perceptron()\n",
        "p.fit(df[['cgpa', 'resume_score']], df['placed'])"
      ],
      "metadata": {
        "colab": {
          "base_uri": "https://localhost:8080/",
          "height": 80
        },
        "id": "E-XIOxP4vlDr",
        "outputId": "c60025b9-a36c-4e52-8796-c179de819e5a"
      },
      "execution_count": null,
      "outputs": [
        {
          "output_type": "execute_result",
          "data": {
            "text/plain": [
              "Perceptron()"
            ],
            "text/html": [
              "<style>#sk-container-id-1 {\n",
              "  /* Definition of color scheme common for light and dark mode */\n",
              "  --sklearn-color-text: black;\n",
              "  --sklearn-color-line: gray;\n",
              "  /* Definition of color scheme for unfitted estimators */\n",
              "  --sklearn-color-unfitted-level-0: #fff5e6;\n",
              "  --sklearn-color-unfitted-level-1: #f6e4d2;\n",
              "  --sklearn-color-unfitted-level-2: #ffe0b3;\n",
              "  --sklearn-color-unfitted-level-3: chocolate;\n",
              "  /* Definition of color scheme for fitted estimators */\n",
              "  --sklearn-color-fitted-level-0: #f0f8ff;\n",
              "  --sklearn-color-fitted-level-1: #d4ebff;\n",
              "  --sklearn-color-fitted-level-2: #b3dbfd;\n",
              "  --sklearn-color-fitted-level-3: cornflowerblue;\n",
              "\n",
              "  /* Specific color for light theme */\n",
              "  --sklearn-color-text-on-default-background: var(--sg-text-color, var(--theme-code-foreground, var(--jp-content-font-color1, black)));\n",
              "  --sklearn-color-background: var(--sg-background-color, var(--theme-background, var(--jp-layout-color0, white)));\n",
              "  --sklearn-color-border-box: var(--sg-text-color, var(--theme-code-foreground, var(--jp-content-font-color1, black)));\n",
              "  --sklearn-color-icon: #696969;\n",
              "\n",
              "  @media (prefers-color-scheme: dark) {\n",
              "    /* Redefinition of color scheme for dark theme */\n",
              "    --sklearn-color-text-on-default-background: var(--sg-text-color, var(--theme-code-foreground, var(--jp-content-font-color1, white)));\n",
              "    --sklearn-color-background: var(--sg-background-color, var(--theme-background, var(--jp-layout-color0, #111)));\n",
              "    --sklearn-color-border-box: var(--sg-text-color, var(--theme-code-foreground, var(--jp-content-font-color1, white)));\n",
              "    --sklearn-color-icon: #878787;\n",
              "  }\n",
              "}\n",
              "\n",
              "#sk-container-id-1 {\n",
              "  color: var(--sklearn-color-text);\n",
              "}\n",
              "\n",
              "#sk-container-id-1 pre {\n",
              "  padding: 0;\n",
              "}\n",
              "\n",
              "#sk-container-id-1 input.sk-hidden--visually {\n",
              "  border: 0;\n",
              "  clip: rect(1px 1px 1px 1px);\n",
              "  clip: rect(1px, 1px, 1px, 1px);\n",
              "  height: 1px;\n",
              "  margin: -1px;\n",
              "  overflow: hidden;\n",
              "  padding: 0;\n",
              "  position: absolute;\n",
              "  width: 1px;\n",
              "}\n",
              "\n",
              "#sk-container-id-1 div.sk-dashed-wrapped {\n",
              "  border: 1px dashed var(--sklearn-color-line);\n",
              "  margin: 0 0.4em 0.5em 0.4em;\n",
              "  box-sizing: border-box;\n",
              "  padding-bottom: 0.4em;\n",
              "  background-color: var(--sklearn-color-background);\n",
              "}\n",
              "\n",
              "#sk-container-id-1 div.sk-container {\n",
              "  /* jupyter's `normalize.less` sets `[hidden] { display: none; }`\n",
              "     but bootstrap.min.css set `[hidden] { display: none !important; }`\n",
              "     so we also need the `!important` here to be able to override the\n",
              "     default hidden behavior on the sphinx rendered scikit-learn.org.\n",
              "     See: https://github.com/scikit-learn/scikit-learn/issues/21755 */\n",
              "  display: inline-block !important;\n",
              "  position: relative;\n",
              "}\n",
              "\n",
              "#sk-container-id-1 div.sk-text-repr-fallback {\n",
              "  display: none;\n",
              "}\n",
              "\n",
              "div.sk-parallel-item,\n",
              "div.sk-serial,\n",
              "div.sk-item {\n",
              "  /* draw centered vertical line to link estimators */\n",
              "  background-image: linear-gradient(var(--sklearn-color-text-on-default-background), var(--sklearn-color-text-on-default-background));\n",
              "  background-size: 2px 100%;\n",
              "  background-repeat: no-repeat;\n",
              "  background-position: center center;\n",
              "}\n",
              "\n",
              "/* Parallel-specific style estimator block */\n",
              "\n",
              "#sk-container-id-1 div.sk-parallel-item::after {\n",
              "  content: \"\";\n",
              "  width: 100%;\n",
              "  border-bottom: 2px solid var(--sklearn-color-text-on-default-background);\n",
              "  flex-grow: 1;\n",
              "}\n",
              "\n",
              "#sk-container-id-1 div.sk-parallel {\n",
              "  display: flex;\n",
              "  align-items: stretch;\n",
              "  justify-content: center;\n",
              "  background-color: var(--sklearn-color-background);\n",
              "  position: relative;\n",
              "}\n",
              "\n",
              "#sk-container-id-1 div.sk-parallel-item {\n",
              "  display: flex;\n",
              "  flex-direction: column;\n",
              "}\n",
              "\n",
              "#sk-container-id-1 div.sk-parallel-item:first-child::after {\n",
              "  align-self: flex-end;\n",
              "  width: 50%;\n",
              "}\n",
              "\n",
              "#sk-container-id-1 div.sk-parallel-item:last-child::after {\n",
              "  align-self: flex-start;\n",
              "  width: 50%;\n",
              "}\n",
              "\n",
              "#sk-container-id-1 div.sk-parallel-item:only-child::after {\n",
              "  width: 0;\n",
              "}\n",
              "\n",
              "/* Serial-specific style estimator block */\n",
              "\n",
              "#sk-container-id-1 div.sk-serial {\n",
              "  display: flex;\n",
              "  flex-direction: column;\n",
              "  align-items: center;\n",
              "  background-color: var(--sklearn-color-background);\n",
              "  padding-right: 1em;\n",
              "  padding-left: 1em;\n",
              "}\n",
              "\n",
              "\n",
              "/* Toggleable style: style used for estimator/Pipeline/ColumnTransformer box that is\n",
              "clickable and can be expanded/collapsed.\n",
              "- Pipeline and ColumnTransformer use this feature and define the default style\n",
              "- Estimators will overwrite some part of the style using the `sk-estimator` class\n",
              "*/\n",
              "\n",
              "/* Pipeline and ColumnTransformer style (default) */\n",
              "\n",
              "#sk-container-id-1 div.sk-toggleable {\n",
              "  /* Default theme specific background. It is overwritten whether we have a\n",
              "  specific estimator or a Pipeline/ColumnTransformer */\n",
              "  background-color: var(--sklearn-color-background);\n",
              "}\n",
              "\n",
              "/* Toggleable label */\n",
              "#sk-container-id-1 label.sk-toggleable__label {\n",
              "  cursor: pointer;\n",
              "  display: block;\n",
              "  width: 100%;\n",
              "  margin-bottom: 0;\n",
              "  padding: 0.5em;\n",
              "  box-sizing: border-box;\n",
              "  text-align: center;\n",
              "}\n",
              "\n",
              "#sk-container-id-1 label.sk-toggleable__label-arrow:before {\n",
              "  /* Arrow on the left of the label */\n",
              "  content: \"▸\";\n",
              "  float: left;\n",
              "  margin-right: 0.25em;\n",
              "  color: var(--sklearn-color-icon);\n",
              "}\n",
              "\n",
              "#sk-container-id-1 label.sk-toggleable__label-arrow:hover:before {\n",
              "  color: var(--sklearn-color-text);\n",
              "}\n",
              "\n",
              "/* Toggleable content - dropdown */\n",
              "\n",
              "#sk-container-id-1 div.sk-toggleable__content {\n",
              "  max-height: 0;\n",
              "  max-width: 0;\n",
              "  overflow: hidden;\n",
              "  text-align: left;\n",
              "  /* unfitted */\n",
              "  background-color: var(--sklearn-color-unfitted-level-0);\n",
              "}\n",
              "\n",
              "#sk-container-id-1 div.sk-toggleable__content.fitted {\n",
              "  /* fitted */\n",
              "  background-color: var(--sklearn-color-fitted-level-0);\n",
              "}\n",
              "\n",
              "#sk-container-id-1 div.sk-toggleable__content pre {\n",
              "  margin: 0.2em;\n",
              "  border-radius: 0.25em;\n",
              "  color: var(--sklearn-color-text);\n",
              "  /* unfitted */\n",
              "  background-color: var(--sklearn-color-unfitted-level-0);\n",
              "}\n",
              "\n",
              "#sk-container-id-1 div.sk-toggleable__content.fitted pre {\n",
              "  /* unfitted */\n",
              "  background-color: var(--sklearn-color-fitted-level-0);\n",
              "}\n",
              "\n",
              "#sk-container-id-1 input.sk-toggleable__control:checked~div.sk-toggleable__content {\n",
              "  /* Expand drop-down */\n",
              "  max-height: 200px;\n",
              "  max-width: 100%;\n",
              "  overflow: auto;\n",
              "}\n",
              "\n",
              "#sk-container-id-1 input.sk-toggleable__control:checked~label.sk-toggleable__label-arrow:before {\n",
              "  content: \"▾\";\n",
              "}\n",
              "\n",
              "/* Pipeline/ColumnTransformer-specific style */\n",
              "\n",
              "#sk-container-id-1 div.sk-label input.sk-toggleable__control:checked~label.sk-toggleable__label {\n",
              "  color: var(--sklearn-color-text);\n",
              "  background-color: var(--sklearn-color-unfitted-level-2);\n",
              "}\n",
              "\n",
              "#sk-container-id-1 div.sk-label.fitted input.sk-toggleable__control:checked~label.sk-toggleable__label {\n",
              "  background-color: var(--sklearn-color-fitted-level-2);\n",
              "}\n",
              "\n",
              "/* Estimator-specific style */\n",
              "\n",
              "/* Colorize estimator box */\n",
              "#sk-container-id-1 div.sk-estimator input.sk-toggleable__control:checked~label.sk-toggleable__label {\n",
              "  /* unfitted */\n",
              "  background-color: var(--sklearn-color-unfitted-level-2);\n",
              "}\n",
              "\n",
              "#sk-container-id-1 div.sk-estimator.fitted input.sk-toggleable__control:checked~label.sk-toggleable__label {\n",
              "  /* fitted */\n",
              "  background-color: var(--sklearn-color-fitted-level-2);\n",
              "}\n",
              "\n",
              "#sk-container-id-1 div.sk-label label.sk-toggleable__label,\n",
              "#sk-container-id-1 div.sk-label label {\n",
              "  /* The background is the default theme color */\n",
              "  color: var(--sklearn-color-text-on-default-background);\n",
              "}\n",
              "\n",
              "/* On hover, darken the color of the background */\n",
              "#sk-container-id-1 div.sk-label:hover label.sk-toggleable__label {\n",
              "  color: var(--sklearn-color-text);\n",
              "  background-color: var(--sklearn-color-unfitted-level-2);\n",
              "}\n",
              "\n",
              "/* Label box, darken color on hover, fitted */\n",
              "#sk-container-id-1 div.sk-label.fitted:hover label.sk-toggleable__label.fitted {\n",
              "  color: var(--sklearn-color-text);\n",
              "  background-color: var(--sklearn-color-fitted-level-2);\n",
              "}\n",
              "\n",
              "/* Estimator label */\n",
              "\n",
              "#sk-container-id-1 div.sk-label label {\n",
              "  font-family: monospace;\n",
              "  font-weight: bold;\n",
              "  display: inline-block;\n",
              "  line-height: 1.2em;\n",
              "}\n",
              "\n",
              "#sk-container-id-1 div.sk-label-container {\n",
              "  text-align: center;\n",
              "}\n",
              "\n",
              "/* Estimator-specific */\n",
              "#sk-container-id-1 div.sk-estimator {\n",
              "  font-family: monospace;\n",
              "  border: 1px dotted var(--sklearn-color-border-box);\n",
              "  border-radius: 0.25em;\n",
              "  box-sizing: border-box;\n",
              "  margin-bottom: 0.5em;\n",
              "  /* unfitted */\n",
              "  background-color: var(--sklearn-color-unfitted-level-0);\n",
              "}\n",
              "\n",
              "#sk-container-id-1 div.sk-estimator.fitted {\n",
              "  /* fitted */\n",
              "  background-color: var(--sklearn-color-fitted-level-0);\n",
              "}\n",
              "\n",
              "/* on hover */\n",
              "#sk-container-id-1 div.sk-estimator:hover {\n",
              "  /* unfitted */\n",
              "  background-color: var(--sklearn-color-unfitted-level-2);\n",
              "}\n",
              "\n",
              "#sk-container-id-1 div.sk-estimator.fitted:hover {\n",
              "  /* fitted */\n",
              "  background-color: var(--sklearn-color-fitted-level-2);\n",
              "}\n",
              "\n",
              "/* Specification for estimator info (e.g. \"i\" and \"?\") */\n",
              "\n",
              "/* Common style for \"i\" and \"?\" */\n",
              "\n",
              ".sk-estimator-doc-link,\n",
              "a:link.sk-estimator-doc-link,\n",
              "a:visited.sk-estimator-doc-link {\n",
              "  float: right;\n",
              "  font-size: smaller;\n",
              "  line-height: 1em;\n",
              "  font-family: monospace;\n",
              "  background-color: var(--sklearn-color-background);\n",
              "  border-radius: 1em;\n",
              "  height: 1em;\n",
              "  width: 1em;\n",
              "  text-decoration: none !important;\n",
              "  margin-left: 1ex;\n",
              "  /* unfitted */\n",
              "  border: var(--sklearn-color-unfitted-level-1) 1pt solid;\n",
              "  color: var(--sklearn-color-unfitted-level-1);\n",
              "}\n",
              "\n",
              ".sk-estimator-doc-link.fitted,\n",
              "a:link.sk-estimator-doc-link.fitted,\n",
              "a:visited.sk-estimator-doc-link.fitted {\n",
              "  /* fitted */\n",
              "  border: var(--sklearn-color-fitted-level-1) 1pt solid;\n",
              "  color: var(--sklearn-color-fitted-level-1);\n",
              "}\n",
              "\n",
              "/* On hover */\n",
              "div.sk-estimator:hover .sk-estimator-doc-link:hover,\n",
              ".sk-estimator-doc-link:hover,\n",
              "div.sk-label-container:hover .sk-estimator-doc-link:hover,\n",
              ".sk-estimator-doc-link:hover {\n",
              "  /* unfitted */\n",
              "  background-color: var(--sklearn-color-unfitted-level-3);\n",
              "  color: var(--sklearn-color-background);\n",
              "  text-decoration: none;\n",
              "}\n",
              "\n",
              "div.sk-estimator.fitted:hover .sk-estimator-doc-link.fitted:hover,\n",
              ".sk-estimator-doc-link.fitted:hover,\n",
              "div.sk-label-container:hover .sk-estimator-doc-link.fitted:hover,\n",
              ".sk-estimator-doc-link.fitted:hover {\n",
              "  /* fitted */\n",
              "  background-color: var(--sklearn-color-fitted-level-3);\n",
              "  color: var(--sklearn-color-background);\n",
              "  text-decoration: none;\n",
              "}\n",
              "\n",
              "/* Span, style for the box shown on hovering the info icon */\n",
              ".sk-estimator-doc-link span {\n",
              "  display: none;\n",
              "  z-index: 9999;\n",
              "  position: relative;\n",
              "  font-weight: normal;\n",
              "  right: .2ex;\n",
              "  padding: .5ex;\n",
              "  margin: .5ex;\n",
              "  width: min-content;\n",
              "  min-width: 20ex;\n",
              "  max-width: 50ex;\n",
              "  color: var(--sklearn-color-text);\n",
              "  box-shadow: 2pt 2pt 4pt #999;\n",
              "  /* unfitted */\n",
              "  background: var(--sklearn-color-unfitted-level-0);\n",
              "  border: .5pt solid var(--sklearn-color-unfitted-level-3);\n",
              "}\n",
              "\n",
              ".sk-estimator-doc-link.fitted span {\n",
              "  /* fitted */\n",
              "  background: var(--sklearn-color-fitted-level-0);\n",
              "  border: var(--sklearn-color-fitted-level-3);\n",
              "}\n",
              "\n",
              ".sk-estimator-doc-link:hover span {\n",
              "  display: block;\n",
              "}\n",
              "\n",
              "/* \"?\"-specific style due to the `<a>` HTML tag */\n",
              "\n",
              "#sk-container-id-1 a.estimator_doc_link {\n",
              "  float: right;\n",
              "  font-size: 1rem;\n",
              "  line-height: 1em;\n",
              "  font-family: monospace;\n",
              "  background-color: var(--sklearn-color-background);\n",
              "  border-radius: 1rem;\n",
              "  height: 1rem;\n",
              "  width: 1rem;\n",
              "  text-decoration: none;\n",
              "  /* unfitted */\n",
              "  color: var(--sklearn-color-unfitted-level-1);\n",
              "  border: var(--sklearn-color-unfitted-level-1) 1pt solid;\n",
              "}\n",
              "\n",
              "#sk-container-id-1 a.estimator_doc_link.fitted {\n",
              "  /* fitted */\n",
              "  border: var(--sklearn-color-fitted-level-1) 1pt solid;\n",
              "  color: var(--sklearn-color-fitted-level-1);\n",
              "}\n",
              "\n",
              "/* On hover */\n",
              "#sk-container-id-1 a.estimator_doc_link:hover {\n",
              "  /* unfitted */\n",
              "  background-color: var(--sklearn-color-unfitted-level-3);\n",
              "  color: var(--sklearn-color-background);\n",
              "  text-decoration: none;\n",
              "}\n",
              "\n",
              "#sk-container-id-1 a.estimator_doc_link.fitted:hover {\n",
              "  /* fitted */\n",
              "  background-color: var(--sklearn-color-fitted-level-3);\n",
              "}\n",
              "</style><div id=\"sk-container-id-1\" class=\"sk-top-container\"><div class=\"sk-text-repr-fallback\"><pre>Perceptron()</pre><b>In a Jupyter environment, please rerun this cell to show the HTML representation or trust the notebook. <br />On GitHub, the HTML representation is unable to render, please try loading this page with nbviewer.org.</b></div><div class=\"sk-container\" hidden><div class=\"sk-item\"><div class=\"sk-estimator fitted sk-toggleable\"><input class=\"sk-toggleable__control sk-hidden--visually\" id=\"sk-estimator-id-1\" type=\"checkbox\" checked><label for=\"sk-estimator-id-1\" class=\"sk-toggleable__label fitted sk-toggleable__label-arrow fitted\">&nbsp;&nbsp;Perceptron<a class=\"sk-estimator-doc-link fitted\" rel=\"noreferrer\" target=\"_blank\" href=\"https://scikit-learn.org/1.5/modules/generated/sklearn.linear_model.Perceptron.html\">?<span>Documentation for Perceptron</span></a><span class=\"sk-estimator-doc-link fitted\">i<span>Fitted</span></span></label><div class=\"sk-toggleable__content fitted\"><pre>Perceptron()</pre></div> </div></div></div></div>"
            ]
          },
          "metadata": {},
          "execution_count": 6
        }
      ]
    },
    {
      "cell_type": "code",
      "source": [
        "p.coef_"
      ],
      "metadata": {
        "colab": {
          "base_uri": "https://localhost:8080/"
        },
        "id": "Y39WuEQhwt0Y",
        "outputId": "b50bcd8b-f567-4807-c782-2608261e4a7a"
      },
      "execution_count": null,
      "outputs": [
        {
          "output_type": "execute_result",
          "data": {
            "text/plain": [
              "array([[ 40.26, -36.  ]])"
            ]
          },
          "metadata": {},
          "execution_count": 7
        }
      ]
    },
    {
      "cell_type": "code",
      "source": [
        "p.intercept_"
      ],
      "metadata": {
        "colab": {
          "base_uri": "https://localhost:8080/"
        },
        "id": "pNizaWvrww-N",
        "outputId": "e3f528ac-c63e-4698-d974-29fcfc178af7"
      },
      "execution_count": null,
      "outputs": [
        {
          "output_type": "execute_result",
          "data": {
            "text/plain": [
              "array([-25.])"
            ]
          },
          "metadata": {},
          "execution_count": 8
        }
      ]
    },
    {
      "cell_type": "code",
      "source": [
        "from mlxtend.plotting import plot_decision_regions\n",
        "plot_decision_regions(df[['cgpa', 'resume_score']].values, df['placed'].values, clf=p)"
      ],
      "metadata": {
        "colab": {
          "base_uri": "https://localhost:8080/",
          "height": 507
        },
        "id": "Cb_-g4rFwzlp",
        "outputId": "f88a7de0-bbed-4738-9092-c0693e1bcd62"
      },
      "execution_count": null,
      "outputs": [
        {
          "output_type": "stream",
          "name": "stderr",
          "text": [
            "/usr/local/lib/python3.10/dist-packages/sklearn/base.py:493: UserWarning: X does not have valid feature names, but Perceptron was fitted with feature names\n",
            "  warnings.warn(\n"
          ]
        },
        {
          "output_type": "execute_result",
          "data": {
            "text/plain": [
              "<Axes: >"
            ]
          },
          "metadata": {},
          "execution_count": 9
        },
        {
          "output_type": "display_data",
          "data": {
            "text/plain": [
              "<Figure size 640x480 with 1 Axes>"
            ],
            "image/png": "[encoded data removed]"
          },
          "metadata": {}
        }
      ]
    },
    {
      "cell_type": "markdown",
      "source": [
        "## Percepton Trick"
      ],
      "metadata": {
        "id": "Q6hqQ1MTLjRg"
      }
    },
    {
      "cell_type": "markdown",
      "source": [
        "Ax1 + Bx2 + C = 0 general equation of line\n",
        "\n",
        "Our objective is find the value of A, B and C that can perfectly seperated the region\n",
        "\n",
        "we initailized the line. we use loop in which we select randomly one point. Ask that point, are you correctly classified? if not then we change the line and make it correctly classified. again we repeat the process.\n",
        "\n",
        " you can use number of epoch or number of converge"
      ],
      "metadata": {
        "id": "tSPLPGz4LwW6"
      }
    },
    {
      "cell_type": "markdown",
      "source": [
        "How to label the regions?\n",
        "\n",
        "Ax1+Bx2+C > 0 then positive region. Ax1+Bx2+C < 0 then negative region. if Ax1+Bx2+C = 0 then line."
      ],
      "metadata": {
        "id": "kxXvcj3-QvDB"
      }
    },
    {
      "cell_type": "markdown",
      "source": [
        "**Transformations:**\n",
        "if only C value change it is parallel move up and down with previous line.\n",
        "\n",
        "if only A value change it is rotate keeping y axis same put change in x-axis.\n",
        "\n",
        "if only B value change it is rotate keeping x axis same put change in y-axis.\n",
        "\n",
        "we use learning rate for transformation.\n",
        "\n",
        "new coef = previous coef - lr * coordinate  \n",
        "\n",
        "what we do is Ax1+Bx2+C=0 and point is (x,y) then for new line:\n",
        "\n",
        "A, B and C is coefficent and x, y is cordinate. 3 number is coefficent and 2 number is coordinate that means we canot subtract. So, we add another number to coordinate that is 1 then\n",
        "\n",
        "coeff A B C\n",
        "\n",
        "-coor x y 1 * lr\n",
        "\n",
        "this gives new coeff\n",
        "\n",
        "if you want to move line to negative direction than we add new coef = previous coef + lr * coordinate\n",
        "\n",
        "and if we want to move to postive direction we sub\n",
        "\n",
        "new coef = previous coef - lr * coordinate"
      ],
      "metadata": {
        "id": "7AXv6JFnR-u3"
      }
    },
    {
      "cell_type": "markdown",
      "source": [
        "**Algorithm**\n",
        "\n",
        "Ax + By + C = 0\n",
        "\n",
        "C + Ax + By = 0\n",
        "\n",
        "w0 + w1x1 + w2x2 = 0 , then w0=C, w1=A, w2=B\n",
        "\n",
        "we also add imaginary column x0 which has value 1 for all. This is for bias. then it will be\n",
        "\n",
        "w0x0 + w1x1 + w2x2 = 0\n",
        "\n",
        "sumation E i=0 to n-dim wixi = 0,  where n-dim is number of dimension.  \n",
        "\n",
        "we do is matrix multiplaction W * X\n",
        "\n",
        "\n",
        "epoch = n, lr=0.01\n",
        "\n",
        "for i in range(epochs):\n",
        "\n",
        "  if xi E N and E i=0 to n-dim wixi >= 0(postive)\n",
        "\n",
        "    wnew = wold - lr * xi\n",
        "\n",
        "  if xi E P and E i=0 to n-dim wixi < 0 (negative)\n",
        "\n",
        "    wnew = wold + lr * xi\n",
        "\n",
        "  if xi E N and E i=0 to n-dim wixi < 0 || if xi E P and E i=0 to n-dim wixi >= 0\n",
        "\n",
        "    no change  \n",
        "\n",
        "**Actual algorithm**\n",
        "\n",
        "for i to rang(n-epoch):\n",
        "\n",
        "select a random data(i)\n",
        "\n",
        "Wn = W0 + lr (Yi - Yi hat) Xi"
      ],
      "metadata": {
        "id": "UqkX7KwhpdEL"
      }
    },
    {
      "cell_type": "code",
      "source": [
        "from sklearn.datasets import make_classification\n",
        "import numpy as np\n",
        "import matplotlib.pyplot as plt\n",
        "\n",
        "X, y = make_classification(n_samples=100, n_features=2, n_informative=1, n_redundant=0, n_classes=2, n_clusters_per_class=1, random_state=41, hypercube=False, class_sep=10)\n",
        "\n",
        "plt.figure(figsize=(10,6))\n",
        "plt.scatter(X[:,0],X[:,1],c=y,cmap='winter',s=100)"
      ],
      "metadata": {
        "colab": {
          "base_uri": "https://localhost:8080/",
          "height": 420
        },
        "id": "XXEFYA2JwBe-",
        "outputId": "c6ac915b-1091-4699-ef0f-6be7887534af"
      },
      "execution_count": null,
      "outputs": [
        {
          "output_type": "execute_result",
          "data": {
            "text/plain": [
              "<matplotlib.collections.PathCollection at 0x7de3fb9afb50>"
            ]
          },
          "metadata": {},
          "execution_count": 1
        },
        {
          "output_type": "display_data",
          "data": {
            "text/plain": [
              "<Figure size 1000x600 with 1 Axes>"
            ],
            "image/png": "[encoded data removed]"
          },
          "metadata": {}
        }
      ]
    },
    {
      "cell_type": "code",
      "source": [
        "def step(z):\n",
        "  return 1 if z>0 else 0"
      ],
      "metadata": {
        "id": "qsd4kz9YzAYm"
      },
      "execution_count": null,
      "outputs": []
    },
    {
      "cell_type": "code",
      "source": [
        "def perceptron(X,y):\n",
        "\n",
        "    X = np.insert(X,0,1,axis=1) # adding 1 to index 0 for bias\n",
        "    weights = np.ones(X.shape[1]) # initializing weight value 1\n",
        "    lr = 0.1\n",
        "\n",
        "    for i in range(1000):\n",
        "        j = np.random.randint(0,100)\n",
        "        y_hat = step(np.dot(X[j],weights)) # step do when greater than zero then give 1 and smaller than zero give 0\n",
        "        weights = weights + lr*(y[j]-y_hat)*X[j] # update weight\n",
        "\n",
        "    return weights[0],weights[1:]"
      ],
      "metadata": {
        "id": "ee9IaYEpwzFX"
      },
      "execution_count": null,
      "outputs": []
    },
    {
      "cell_type": "code",
      "source": [
        "intercept_,coef_ = perceptron(X,y)"
      ],
      "metadata": {
        "id": "5optnPrMzGzH"
      },
      "execution_count": null,
      "outputs": []
    },
    {
      "cell_type": "code",
      "source": [
        "print(\"weight:\",coef_)\n",
        "print(\"intercept:\",intercept_)"
      ],
      "metadata": {
        "colab": {
          "base_uri": "https://localhost:8080/"
        },
        "id": "ShvkVYU1zqoN",
        "outputId": "67a803ef-b32d-44d6-8be4-e1a96088b8f7"
      },
      "execution_count": null,
      "outputs": [
        {
          "output_type": "stream",
          "name": "stdout",
          "text": [
            "weight: [1.30549088 0.09529354]\n",
            "intercept: 1.0\n"
          ]
        }
      ]
    },
    {
      "cell_type": "markdown",
      "source": [
        "for line in graph\n",
        "\n",
        "Ax + By + C = 0 change to y = mx + b\n",
        "\n",
        "m= -A/B , c= -C/B\n"
      ],
      "metadata": {
        "id": "czIyLSXH0HwE"
      }
    },
    {
      "cell_type": "code",
      "source": [
        "m = -(coef_[0]/coef_[1])\n",
        "b = -(intercept_/coef_[1])"
      ],
      "metadata": {
        "id": "gtcd9Ogrz0wS"
      },
      "execution_count": null,
      "outputs": []
    },
    {
      "cell_type": "code",
      "source": [
        "x_input = np.linspace(-3,3,100) # create 100 number from -3 to 3\n",
        "y_input = m*x_input + b"
      ],
      "metadata": {
        "id": "xihvKCEZ0hEo"
      },
      "execution_count": null,
      "outputs": []
    },
    {
      "cell_type": "code",
      "source": [
        "plt.figure(figsize=(10,6))\n",
        "plt.plot(x_input,y_input,color='red',linewidth=3)\n",
        "plt.scatter(X[:,0],X[:,1],c=y,cmap='winter',s=100)\n",
        "plt.ylim(-3,2)"
      ],
      "metadata": {
        "colab": {
          "base_uri": "https://localhost:8080/",
          "height": 425
        },
        "id": "5rxjcKIl1Y9s",
        "outputId": "2e9a7e20-314a-408b-bab7-795a07bf2b29"
      },
      "execution_count": null,
      "outputs": [
        {
          "output_type": "execute_result",
          "data": {
            "text/plain": [
              "(-3.0, 2.0)"
            ]
          },
          "metadata": {},
          "execution_count": 9
        },
        {
          "output_type": "display_data",
          "data": {
            "text/plain": [
              "<Figure size 1000x600 with 1 Axes>"
            ],
            "image/png": "[encoded data removed]"
          },
          "metadata": {}
        }
      ]
    },
    {
      "cell_type": "markdown",
      "source": [
        "## Perceptron Loss Function"
      ],
      "metadata": {
        "id": "7tVz3yUh3tYb"
      }
    },
    {
      "cell_type": "markdown",
      "source": [
        "**Problem with Perceptron Trick**\n",
        "\n",
        "line made from w1, w2 and b we cannot be confident that this is the best line we can draw.\n",
        "\n",
        "The way it classify we are not quantify which is the best line to seperate.\n",
        "\n",
        "there are be problem in converge. each time we select we only select correct point that mean no changes in line. what if incorrect classified line never select."
      ],
      "metadata": {
        "id": "1TsFGO2j4_iO"
      }
    },
    {
      "cell_type": "markdown",
      "source": [
        "**To solve problem of perceptron trick we use loss function**\n",
        "\n",
        "because of loss function we can quantify how much better the result is."
      ],
      "metadata": {
        "id": "dqJdyuR86W8O"
      }
    },
    {
      "cell_type": "markdown",
      "source": [
        "**loss function** it is a way to tell how much well ML working."
      ],
      "metadata": {
        "id": "Cj7PJZ5E6p5b"
      }
    },
    {
      "cell_type": "markdown",
      "source": [
        "Loss function can be calculate by the distance perpendicular to the line of all errrors.\n",
        "\n",
        "Although in perceptron, loss function calculated is not by the distance.\n",
        "we put value of error datas in the equation of the line and the value it give is loss function. if the value comes negative then we make positive. It is directly proportional to the distance.\n",
        "\n",
        "loss function=sum of error data |Ax+By+C|\n",
        "\n",
        "loss function L(w1,w2,b) = (1/n E i=1 to n L(Yi, f(Xi))) + alpha R(w1,w2)\n",
        "\n",
        "R= regulatization\n",
        "\n",
        "when regulatization is not use we can ignore it.\n",
        "\n",
        "L(Yi, f(Xi))=max(0, -Yi f(Xi)), where f(Xi) = w1x1+w2x2+b\n",
        "\n",
        "this is the loss function\n",
        "\n",
        "loss function L(w1,w2,b) = (1/n E i=1 to n max(0, -Yi f(Xi)))\n",
        "\n",
        "n = number of rows in data\n",
        "\n",
        "L= argmin w1,w2,b (1/n E i=1 to n max(0, -Yi f(Xi)))\n",
        "\n",
        "we need to find the value of w1, w2, b by which we can get minimum value of L. so, to find this we used gradinet descent."
      ],
      "metadata": {
        "id": "2TNzTtkC7kpr"
      }
    },
    {
      "cell_type": "markdown",
      "source": [
        "**Explanation of Loss Function**\n",
        "\n",
        "loss function L(w1,w2,b) = (1/n E i=1 to n max(0, -Yi f(Xi))) , where f(Xi) = w1x1+w2x2+b\n",
        "\n",
        "Lets break:\n",
        "\n",
        "max(0, -Yi f(Xi)), let's say -Yi f(Xi) be X then if value of X>=0 then it give X as answer and if it less than 0 then 0 is the answer\n",
        "\n",
        "lets say we only have 2 points then n = 2:,\n",
        "\n",
        "L= 1/2 [max(0, -Y1 f(X1)) + max(0, -Y2 f(X2)) ]\n",
        "\n",
        "i) when Yi = 1 and Yi hat =1 then\n",
        "\n",
        "f(X1)= w1x1 +w2x2 +b>=0 this means it is positive (+ve value)\n",
        "\n",
        "max(0, -Y1 f(X1))= max(0, -1 * (+ve))\n",
        "\n",
        "this means: -*+ = -\n",
        "\n",
        "max(0, -ve) = 0\n",
        "\n",
        "ii) Yi = -1 and Yi hat =-1 then\n",
        "\n",
        "f(X1)= w1x1 +w2x2 +b<0 this means it is positive (-ve value)\n",
        "\n",
        "max(0, -Y1 f(X1))= max(0, - (-1) * (-ve))\n",
        "\n",
        "this means: -*- *+ = -\n",
        "\n",
        "max(0, -ve) = 0\n",
        "\n",
        "iii)Yi = 1 and Yi hat =-1 then\n",
        "\n",
        "f(X1)= w1x1 +w2x2 +b<0 this means it is positive (-ve value)\n",
        "\n",
        "max(0, -Y1 f(X1))= max(0, - (1) * (-ve))\n",
        "\n",
        "this means: - *- = +\n",
        "\n",
        "max(0, +ve) = +ve\n",
        "\n",
        "iv) Yi = -1 and Yi hat = 1 then\n",
        "\n",
        "f(X1)= w1x1 +w2x2 +b>=0 this means it is positive (+ve value)\n",
        "\n",
        "max(0, -Y1 f(X1))= max(0, - (-1) * (ve))\n",
        "\n",
        "this means: - *- = +\n",
        "\n",
        "max(0, +ve) = +ve\n",
        "\n",
        "\n",
        "This show that when it is correctely classifed then it have 0 contribution. If noly misclassified we do calcuation of loss function\n",
        "\n",
        "\n",
        "\n",
        "\n",
        "\n",
        "\n",
        "\n",
        "\n"
      ],
      "metadata": {
        "id": "HatAS0SJGrxR"
      }
    },
    {
      "cell_type": "markdown",
      "source": [
        "**Gradient Descent**\n",
        "\n",
        "L= argmin w1,w2,b (1/n E i=1 to n max(0, -Yi f(Xi)))\n",
        "\n",
        "we need to find the value of w1, w2, b\n",
        "\n",
        "where f(Xi) = w1x1+w2x2+b\n",
        "\n",
        "for i in epochs:\n",
        "\n",
        "  w1 = w1 - lr dL/dw1\n",
        "\n",
        "  w1 = w2 - lr dL/dw2\n",
        "\n",
        "  b = b - lr dL/b\n",
        "\n",
        "\n",
        "we need to find [dL/dw1, dL/dw2, dL/db]\n",
        "\n",
        "dL/dw1 = dL/ df(xi) * df(xi)/dw1\n",
        "\n",
        "df(xi)/dw1= (w1x1+w2x2+b)/dw1 = xi1\n",
        "\n",
        "dL/ df(xi) = [0 if yif(xi)>=0 or -yi if yif(xi)<0]\n",
        "\n",
        "this gives:\n",
        "\n",
        "dL/dw1 = [0 if yif(xi)>=0 or -yi xi1 if yif(xi)<0]\n",
        "\n",
        "Going by same logic:\n",
        "\n",
        "dL/dw2 = [0 if yif(xi)>=0 or -yi xi2 if yif(xi)<0]\n",
        "\n",
        "dL/db = [0 if yif(xi)>=0 or -yi if yif(xi)<0]"
      ],
      "metadata": {
        "id": "jiKqae2CQkmc"
      }
    },
    {
      "cell_type": "markdown",
      "source": [
        "**code**\n"
      ],
      "metadata": {
        "id": "heXZX_zUTexw"
      }
    },
    {
      "cell_type": "code",
      "source": [
        "from sklearn.datasets import make_classification\n",
        "import numpy as np\n",
        "X, y = make_classification(n_samples=100, n_features=2, n_informative=1,n_redundant=0,\n",
        "                           n_classes=2, n_clusters_per_class=1, random_state=41,hypercube=False,class_sep=15)"
      ],
      "metadata": {
        "id": "5l8eszm4TjTR"
      },
      "execution_count": 1,
      "outputs": []
    },
    {
      "cell_type": "code",
      "source": [
        "import matplotlib.pyplot as plt\n",
        "plt.figure(figsize=(10,6))\n",
        "plt.scatter(X[:,0],X[:,1],c=y,cmap='winter',s=100)"
      ],
      "metadata": {
        "colab": {
          "base_uri": "https://localhost:8080/",
          "height": 420
        },
        "id": "at6LkjpuTr_z",
        "outputId": "78177c8d-246e-4898-fc92-99e74b36249a"
      },
      "execution_count": 2,
      "outputs": [
        {
          "output_type": "execute_result",
          "data": {
            "text/plain": [
              "<matplotlib.collections.PathCollection at 0x7e1f3c977880>"
            ]
          },
          "metadata": {},
          "execution_count": 2
        },
        {
          "output_type": "display_data",
          "data": {
            "text/plain": [
              "<Figure size 1000x600 with 1 Axes>"
            ],
            "image/png": "[encoded data removed]"
          },
          "metadata": {}
        }
      ]
    },
    {
      "cell_type": "code",
      "source": [
        "def perceptron(X,y):\n",
        "\n",
        "    w1=w2=b=1 # intial by 1\n",
        "    lr = 0.1\n",
        "\n",
        "    for j in range(1000):\n",
        "\n",
        "        for i in range(X.shape[0]):\n",
        "\n",
        "            # check condition\n",
        "            z = w1*X[i][0] + w2*X[i][1] + b\n",
        "\n",
        "            if z*y[i] < 0:\n",
        "                w1 = w1 + lr*y[i]*X[i][0]\n",
        "                w2 = w2 + lr*y[i]*X[i][1]\n",
        "                b = b + lr*y[i]\n",
        "\n",
        "    return w1,w2,b"
      ],
      "metadata": {
        "id": "5BTDH7uuTudU"
      },
      "execution_count": 3,
      "outputs": []
    },
    {
      "cell_type": "code",
      "source": [
        "w1,w2,b = perceptron(X,y)"
      ],
      "metadata": {
        "id": "CvcSqKvkTzSh"
      },
      "execution_count": 4,
      "outputs": []
    },
    {
      "cell_type": "code",
      "source": [
        "w1, w2, b"
      ],
      "metadata": {
        "colab": {
          "base_uri": "https://localhost:8080/"
        },
        "id": "Us8ZhvP-T1A1",
        "outputId": "da6feded-367c-41f8-e474-7df5632cd63f"
      },
      "execution_count": 5,
      "outputs": [
        {
          "output_type": "execute_result",
          "data": {
            "text/plain": [
              "(1.006638570722407, 0.22215119727529098, 1.3000000000000003)"
            ]
          },
          "metadata": {},
          "execution_count": 5
        }
      ]
    },
    {
      "cell_type": "code",
      "source": [
        "m = -(w1/w2)\n",
        "c = -(b/w2)\n",
        "\n",
        "print(m,c)"
      ],
      "metadata": {
        "colab": {
          "base_uri": "https://localhost:8080/"
        },
        "id": "sU4MOdnZUWWI",
        "outputId": "29fbaae8-8ea6-4b0d-b124-cc99d7e1f3b5"
      },
      "execution_count": 6,
      "outputs": [
        {
          "output_type": "stream",
          "name": "stdout",
          "text": [
            "-4.531321834268464 -5.851870329508209\n"
          ]
        }
      ]
    },
    {
      "cell_type": "code",
      "source": [
        "x_input = np.linspace(-3,3,100)\n",
        "y_input = m*x_input + c\n",
        "\n",
        "plt.figure(figsize=(10,6))\n",
        "plt.plot(x_input,y_input,color='red',linewidth=3)\n",
        "plt.scatter(X[:,0],X[:,1],c=y,cmap='winter',s=100)\n",
        "plt.ylim(-3,2)"
      ],
      "metadata": {
        "colab": {
          "base_uri": "https://localhost:8080/",
          "height": 425
        },
        "id": "mMiPduRTUbBj",
        "outputId": "b9b12c5f-cecd-4f2a-e74a-c12295570d7c"
      },
      "execution_count": 7,
      "outputs": [
        {
          "output_type": "execute_result",
          "data": {
            "text/plain": [
              "(-3.0, 2.0)"
            ]
          },
          "metadata": {},
          "execution_count": 7
        },
        {
          "output_type": "display_data",
          "data": {
            "text/plain": [
              "<Figure size 1000x600 with 1 Axes>"
            ],
            "image/png": "[encoded data removed]"
          },
          "metadata": {}
        }
      ]
    },
    {
      "cell_type": "markdown",
      "source": [
        "For more loss function\n",
        "\n",
        "if we want activation funtion to be proba then we can use sigmod function and we can use binary cross entropy as loss funtion.\n",
        "\n",
        "L= -Yi logYi hat  + (1-Yi) log(1-Yi hat)\n",
        "\n",
        "SDG = output proba\n",
        "\n",
        "\n",
        "if we want to have multi-class then we can use activation funcation as softmax and loss fun = categorical cross entropy\n",
        "\n",
        "this is softmax regression\n",
        "\n",
        "Perceptron is flexiable\n",
        "\n",
        "\n",
        "loss function | activation | output\n",
        "\n",
        "hinge loss-> step -> perceptron ( binary classfication )\n",
        "\n",
        "log-loss(binary cross entropy) -> sigmoid -> logistic regression (binary classifier)\n",
        "\n",
        "categorical cross-entropy -> softmax -> softmax-regression (multiclass classifier)\n",
        "\n",
        "mse -> linear -> linear reg(number)"
      ],
      "metadata": {
        "id": "Iozc1pcBUiNP"
      }
    }
  ]
}